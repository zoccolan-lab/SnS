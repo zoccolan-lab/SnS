{
 "cells": [
  {
   "cell_type": "code",
   "execution_count": null,
   "metadata": {},
   "outputs": [],
   "source": [
    "import os\n",
    "from src.snslib.experiment.utils.parsing import parse_recording\n",
    "from src.snslib.core.subject import TorchNetworkSubject\n",
    "from src.snslib.core.utils.io_ import read_json\n",
    "from src.snslib.core.utils.io_ import store_pickle\n",
    "from src.snslib.experiment.utils.args import NATURAL_RECORDINGS\n",
    "\n",
    "\n",
    "organization = read_json('path/to/your/nat_stats_fp.json')\n",
    "\n",
    "import numpy as np\n",
    "\n",
    "# Create a new dictionary with the same structure as 'organization'\n",
    "data_dict = {}\n",
    "\n",
    "for model, variants in organization.items():\n",
    "    data_dict[model] = {}\n",
    "    for variant, recordings in variants.items():\n",
    "        data_dict[model][variant] = {}\n",
    "        for recording_name, path in recordings.items():\n",
    "            data_dict[model][variant][recording_name] = {}\n",
    "            data_dict[model][variant][recording_name]['data'] = np.load(os.path.join(path, 'recordings.npy'))\n",
    "            prms = read_json(os.path.join(path, 'params.json'))\n",
    "            layer_info = TorchNetworkSubject(\n",
    "            network_name=str(prms['net_name'])\n",
    "            ).layer_info\n",
    "            record_target = parse_recording(input_str=prms['rec_layers'], net_info=layer_info)\n",
    "            #NOTE: labels are good in  the None scenario only if the recorded layer is linear\n",
    "            idxs = list(record_target.values())[0]\n",
    "            data_dict[model][variant][recording_name]['labels'] = idxs if idxs is not None else np.arange(data_dict[model][variant][recording_name]['data'].shape[0])\n",
    "            \n",
    "store_pickle(data_dict, NATURAL_RECORDINGS)"
   ]
  }
 ],
 "metadata": {
  "kernelspec": {
   "display_name": "playground",
   "language": "python",
   "name": "python3"
  },
  "language_info": {
   "name": "python",
   "version": "3.12.3"
  }
 },
 "nbformat": 4,
 "nbformat_minor": 2
}
