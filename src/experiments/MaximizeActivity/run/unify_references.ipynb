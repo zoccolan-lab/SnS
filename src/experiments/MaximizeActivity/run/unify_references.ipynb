{
 "cells": [
  {
   "cell_type": "code",
   "execution_count": null,
   "metadata": {},
   "outputs": [],
   "source": [
    "import os\n",
    "from  snslib.experiment.utils.args import REFERENCES\n",
    "\n",
    "from  snslib.core.utils.io_ import load_pickle, store_pickle\n",
    "\n",
    "from  snslib.core.utils.misc import deep_update\n",
    "\n",
    "\n",
    "\n",
    "\n",
    "refs = load_pickle(REFERENCES) if os.path.isfile(REFERENCES) else {}\n",
    "\n",
    "ref_updates = ['path/to/data.pkl','/path/to/second/data.pkl']\n",
    "\n",
    "\n",
    "for ru in ref_updates:\n",
    "\n",
    "    ref = load_pickle(ru)\n",
    "\n",
    "    refs = deep_update(refs, ref)\n",
    "\n",
    "\n",
    "store_pickle(data=refs, path=REFERENCES)"
   ]
  }
 ],
 "metadata": {
  "kernelspec": {
   "display_name": "playground",
   "language": "python",
   "name": "python3"
  },
  "language_info": {
   "name": "python",
   "version": "3.12.3"
  }
 },
 "nbformat": 4,
 "nbformat_minor": 2
}
